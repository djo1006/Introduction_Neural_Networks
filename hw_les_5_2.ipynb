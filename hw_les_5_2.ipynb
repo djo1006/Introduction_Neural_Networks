{
  "nbformat": 4,
  "nbformat_minor": 0,
  "metadata": {
    "colab": {
      "name": "hw_les_5.2.ipynb",
      "provenance": [],
      "collapsed_sections": []
    },
    "kernelspec": {
      "display_name": "Python 3",
      "name": "python3"
    },
    "language_info": {
      "name": "python"
    }
  },
  "cells": [
    {
      "cell_type": "markdown",
      "metadata": {
        "id": "g_PSgPLSWfNZ"
      },
      "source": [
        "####**2.** Попробуйте изменить параметры нейронной сети, генерирующей текст таким образом, чтобы добиться генерации как можно более осмысленного текста. Пришлите лучший текст из получившихся и опишите предпринятые для его получения действия. Можно использовать текст другого произведения\n",
        "\n",
        "Лекция 1:53"
      ]
    },
    {
      "cell_type": "code",
      "metadata": {
        "id": "PZ_wMmScPqBH"
      },
      "source": [
        "from tensorflow.keras.preprocessing.sequence import pad_sequences\n",
        "from tensorflow.keras.layers import Embedding, LSTM, Dense, Dropout, Bidirectional\n",
        "from tensorflow.keras.preprocessing.text import Tokenizer\n",
        "from tensorflow.keras.models import Sequential\n",
        "from tensorflow.keras.optimizers import Adam\n",
        "from tensorflow.keras import regularizers\n",
        "import tensorflow.keras.utils as ku \n",
        "import numpy as np "
      ],
      "execution_count": 6,
      "outputs": []
    },
    {
      "cell_type": "code",
      "metadata": {
        "id": "ieFpHos-Psmv"
      },
      "source": [
        "from tensorflow.keras.callbacks import EarlyStopping"
      ],
      "execution_count": 7,
      "outputs": []
    },
    {
      "cell_type": "markdown",
      "metadata": {
        "id": "2J4qYs2dPu7T"
      },
      "source": [
        "Разбор текста - Токенизация"
      ]
    },
    {
      "cell_type": "code",
      "metadata": {
        "colab": {
          "base_uri": "https://localhost:8080/"
        },
        "id": "bScaGmLZPxTQ",
        "outputId": "13659619-f86b-4643-c4be-060c4feda2c4"
      },
      "source": [
        "# Создаем объект для токенизапции\n",
        "tokenizer = Tokenizer(num_words=10000)\n",
        "!wget --no-check-certificate \\\n",
        "    https://storage.googleapis.com/laurencemoroney-blog.appspot.com/sonnets.txt \\\n",
        "    -O /tmp/sonnets.txt\n",
        "data = open('/tmp/sonnets.txt').read()\n",
        "#Читаем текст\n",
        "corpus = data.lower().split(\"\\n\")"
      ],
      "execution_count": 8,
      "outputs": [
        {
          "output_type": "stream",
          "text": [
            "--2021-08-16 18:44:58--  https://storage.googleapis.com/laurencemoroney-blog.appspot.com/sonnets.txt\n",
            "Resolving storage.googleapis.com (storage.googleapis.com)... 142.250.97.128, 173.194.218.128, 64.233.170.128, ...\n",
            "Connecting to storage.googleapis.com (storage.googleapis.com)|142.250.97.128|:443... connected.\n",
            "HTTP request sent, awaiting response... 200 OK\n",
            "Length: 93578 (91K) [text/plain]\n",
            "Saving to: ‘/tmp/sonnets.txt’\n",
            "\n",
            "\r/tmp/sonnets.txt      0%[                    ]       0  --.-KB/s               \r/tmp/sonnets.txt    100%[===================>]  91.38K  --.-KB/s    in 0.001s  \n",
            "\n",
            "2021-08-16 18:44:58 (111 MB/s) - ‘/tmp/sonnets.txt’ saved [93578/93578]\n",
            "\n"
          ],
          "name": "stdout"
        }
      ]
    },
    {
      "cell_type": "code",
      "metadata": {
        "colab": {
          "base_uri": "https://localhost:8080/"
        },
        "id": "q7Vleth7P5v1",
        "outputId": "f793b9fa-fb8f-4034-ae28-7a515c52fc5d"
      },
      "source": [
        "corpus[:10]"
      ],
      "execution_count": 9,
      "outputs": [
        {
          "output_type": "execute_result",
          "data": {
            "text/plain": [
              "['from fairest creatures we desire increase,',\n",
              " \"that thereby beauty's rose might never die,\",\n",
              " 'but as the riper should by time decease,',\n",
              " 'his tender heir might bear his memory:',\n",
              " 'but thou, contracted to thine own bright eyes,',\n",
              " \"feed'st thy light'st flame with self-substantial fuel,\",\n",
              " 'making a famine where abundance lies,',\n",
              " 'thyself thy foe, to thy sweet self too cruel.',\n",
              " \"thou that art now the world's fresh ornament\",\n",
              " 'and only herald to the gaudy spring,']"
            ]
          },
          "metadata": {
            "tags": []
          },
          "execution_count": 9
        }
      ]
    },
    {
      "cell_type": "markdown",
      "metadata": {
        "id": "AlJOy8PnP8gM"
      },
      "source": [
        "Исполним токенизацию и кодирование"
      ]
    },
    {
      "cell_type": "code",
      "metadata": {
        "id": "FefnjQw-AtI2"
      },
      "source": [
        "tokenizer.fit_on_texts(corpus)\n",
        "total_words = len(tokenizer.word_index) + 1\n",
        "\n",
        "# create input sequences using list of tokens\n",
        "input_sequences = []\n",
        "for line in corpus:\n",
        "\ttoken_list = tokenizer.texts_to_sequences([line])[0]\n",
        "\tfor i in range(1, len(token_list)):\n",
        "\t\tn_gram_sequence = token_list[:i+1]\n",
        "\t\tinput_sequences.append(n_gram_sequence)\n",
        "\n",
        "\n",
        "# pad sequences \n",
        "max_sequence_len = max([len(x) for x in input_sequences])\n",
        "input_sequences = np.array(pad_sequences(input_sequences, maxlen=max_sequence_len, padding='pre'))\n",
        "\n",
        "# create predictors and label\n",
        "predictors, label = input_sequences[:,:-1],input_sequences[:,-1]\n",
        "\n",
        "label = ku.to_categorical(label, num_classes=total_words)"
      ],
      "execution_count": 10,
      "outputs": []
    },
    {
      "cell_type": "code",
      "metadata": {
        "colab": {
          "base_uri": "https://localhost:8080/"
        },
        "id": "ybJdoV0EAvgd",
        "outputId": "a6bb4031-0e71-46bc-c17e-9b983a4fb8c0"
      },
      "source": [
        "token_list"
      ],
      "execution_count": 11,
      "outputs": [
        {
          "output_type": "execute_result",
          "data": {
            "text/plain": [
              "[]"
            ]
          },
          "metadata": {
            "tags": []
          },
          "execution_count": 11
        }
      ]
    },
    {
      "cell_type": "code",
      "metadata": {
        "colab": {
          "base_uri": "https://localhost:8080/",
          "height": 35
        },
        "id": "qe9K95kcAxZc",
        "outputId": "f59f986c-6c0b-4c96-dded-28c999490715"
      },
      "source": [
        "tokenizer.index_word[10]"
      ],
      "execution_count": 12,
      "outputs": [
        {
          "output_type": "execute_result",
          "data": {
            "application/vnd.google.colaboratory.intrinsic+json": {
              "type": "string"
            },
            "text/plain": [
              "'thou'"
            ]
          },
          "metadata": {
            "tags": []
          },
          "execution_count": 12
        }
      ]
    },
    {
      "cell_type": "code",
      "metadata": {
        "colab": {
          "base_uri": "https://localhost:8080/"
        },
        "id": "VoZJ8KvkA6Lz",
        "outputId": "e476805d-a523-4757-cfa1-7fe3167a38cd"
      },
      "source": [
        "tokenizer.word_index['love']"
      ],
      "execution_count": 13,
      "outputs": [
        {
          "output_type": "execute_result",
          "data": {
            "text/plain": [
              "14"
            ]
          },
          "metadata": {
            "tags": []
          },
          "execution_count": 13
        }
      ]
    },
    {
      "cell_type": "code",
      "metadata": {
        "colab": {
          "base_uri": "https://localhost:8080/"
        },
        "id": "a6EwxI9kBCuo",
        "outputId": "048062d4-dae3-47d4-a721-73010d3c60cb"
      },
      "source": [
        "input_sequences[11:15,:]"
      ],
      "execution_count": 14,
      "outputs": [
        {
          "output_type": "execute_result",
          "data": {
            "text/plain": [
              "array([[  0,   0,   0,   0,   0,   0,   0,   0,   0,  16,  22],\n",
              "       [  0,   0,   0,   0,   0,   0,   0,   0,  16,  22,   2],\n",
              "       [  0,   0,   0,   0,   0,   0,   0,  16,  22,   2, 879],\n",
              "       [  0,   0,   0,   0,   0,   0,  16,  22,   2, 879,  61]],\n",
              "      dtype=int32)"
            ]
          },
          "metadata": {
            "tags": []
          },
          "execution_count": 14
        }
      ]
    },
    {
      "cell_type": "code",
      "metadata": {
        "colab": {
          "base_uri": "https://localhost:8080/"
        },
        "id": "xEPqz5GjBGBw",
        "outputId": "aed980df-344b-4872-ee61-ca98d513f921"
      },
      "source": [
        "label.shape"
      ],
      "execution_count": 15,
      "outputs": [
        {
          "output_type": "execute_result",
          "data": {
            "text/plain": [
              "(15462, 3211)"
            ]
          },
          "metadata": {
            "tags": []
          },
          "execution_count": 15
        }
      ]
    },
    {
      "cell_type": "markdown",
      "metadata": {
        "id": "LUUNQkEjBgtb"
      },
      "source": [
        "Создаем сеть"
      ]
    },
    {
      "cell_type": "code",
      "metadata": {
        "id": "0muVxVQNBgNL"
      },
      "source": [
        "callback = EarlyStopping(monitor='val_loss', patience=10) # создаем обратный вызов - calback - тут \"Ранний останов\""
      ],
      "execution_count": 16,
      "outputs": []
    },
    {
      "cell_type": "code",
      "metadata": {
        "colab": {
          "base_uri": "https://localhost:8080/"
        },
        "id": "REA-qvbrBmdk",
        "outputId": "72215f27-ddb2-469a-9f16-d3145252f203"
      },
      "source": [
        "model = Sequential()\n",
        "model.add(Embedding(total_words, 256, input_length=max_sequence_len-1))  # вложение тренируемое для перехода от слова к его векторному коду \n",
        "# на вход вложения (эмбединга) передаем вектор словарь (длина равна словарю, вектор разреженный)), на выход строим вектор из n (тут 256) координат - он плотный\n",
        "#model.add(Bidirectional(LSTM(50, return_sequences = True)))\n",
        "\n",
        "model.add(LSTM(128))\n",
        "model.add(Dropout(0.2))\n",
        "model.add(Dense(total_words/2, activation='relu', kernel_regularizer=regularizers.l2(0.01)))\n",
        "model.add(Dense(total_words, activation='softmax'))\n",
        "model.compile(loss='categorical_crossentropy', optimizer='adam', metrics=['accuracy'])\n",
        "print(model.summary())"
      ],
      "execution_count": 17,
      "outputs": [
        {
          "output_type": "stream",
          "text": [
            "Model: \"sequential\"\n",
            "_________________________________________________________________\n",
            "Layer (type)                 Output Shape              Param #   \n",
            "=================================================================\n",
            "embedding (Embedding)        (None, 10, 256)           822016    \n",
            "_________________________________________________________________\n",
            "lstm (LSTM)                  (None, 128)               197120    \n",
            "_________________________________________________________________\n",
            "dropout (Dropout)            (None, 128)               0         \n",
            "_________________________________________________________________\n",
            "dense (Dense)                (None, 1605)              207045    \n",
            "_________________________________________________________________\n",
            "dense_1 (Dense)              (None, 3211)              5156866   \n",
            "=================================================================\n",
            "Total params: 6,383,047\n",
            "Trainable params: 6,383,047\n",
            "Non-trainable params: 0\n",
            "_________________________________________________________________\n",
            "None\n"
          ],
          "name": "stdout"
        }
      ]
    },
    {
      "cell_type": "code",
      "metadata": {
        "colab": {
          "base_uri": "https://localhost:8080/"
        },
        "id": "bBzra5AVCVoT",
        "outputId": "2225a2a5-2deb-42e2-bea6-9f440ba7b2a5"
      },
      "source": [
        "history = model.fit(predictors, label, epochs=100, validation_split=0.2, callbacks=[callback],verbose=1)"
      ],
      "execution_count": 18,
      "outputs": [
        {
          "output_type": "stream",
          "text": [
            "Epoch 1/100\n",
            "387/387 [==============================] - 40s 96ms/step - loss: 6.9902 - accuracy: 0.0229 - val_loss: 6.7413 - val_accuracy: 0.0223\n",
            "Epoch 2/100\n",
            "387/387 [==============================] - 37s 95ms/step - loss: 6.4817 - accuracy: 0.0224 - val_loss: 6.8697 - val_accuracy: 0.0162\n",
            "Epoch 3/100\n",
            "387/387 [==============================] - 37s 95ms/step - loss: 6.3809 - accuracy: 0.0245 - val_loss: 7.1284 - val_accuracy: 0.0168\n",
            "Epoch 4/100\n",
            "387/387 [==============================] - 37s 95ms/step - loss: 6.2761 - accuracy: 0.0320 - val_loss: 7.1400 - val_accuracy: 0.0239\n",
            "Epoch 5/100\n",
            "387/387 [==============================] - 37s 95ms/step - loss: 6.1453 - accuracy: 0.0381 - val_loss: 7.1796 - val_accuracy: 0.0275\n",
            "Epoch 6/100\n",
            "387/387 [==============================] - 37s 95ms/step - loss: 6.0199 - accuracy: 0.0411 - val_loss: 7.5068 - val_accuracy: 0.0268\n",
            "Epoch 7/100\n",
            "387/387 [==============================] - 36s 94ms/step - loss: 5.9047 - accuracy: 0.0438 - val_loss: 7.7181 - val_accuracy: 0.0246\n",
            "Epoch 8/100\n",
            "387/387 [==============================] - 36s 94ms/step - loss: 5.7823 - accuracy: 0.0483 - val_loss: 7.7312 - val_accuracy: 0.0294\n",
            "Epoch 9/100\n",
            "387/387 [==============================] - 36s 94ms/step - loss: 5.6541 - accuracy: 0.0589 - val_loss: 7.8281 - val_accuracy: 0.0336\n",
            "Epoch 10/100\n",
            "387/387 [==============================] - 36s 94ms/step - loss: 5.5235 - accuracy: 0.0654 - val_loss: 8.1106 - val_accuracy: 0.0301\n",
            "Epoch 11/100\n",
            "387/387 [==============================] - 36s 94ms/step - loss: 5.4013 - accuracy: 0.0732 - val_loss: 8.4130 - val_accuracy: 0.0336\n"
          ],
          "name": "stdout"
        }
      ]
    },
    {
      "cell_type": "markdown",
      "metadata": {
        "id": "o0trtfy2Cf08"
      },
      "source": [
        "Тест"
      ]
    },
    {
      "cell_type": "code",
      "metadata": {
        "colab": {
          "base_uri": "https://localhost:8080/",
          "height": 545
        },
        "id": "JmpBiVTZCiPf",
        "outputId": "04709ac2-4575-4f69-8a6a-5dc858f34c4e"
      },
      "source": [
        "import matplotlib.pyplot as plt\n",
        "acc = history.history['accuracy']\n",
        "acc_v = history.history['val_accuracy']\n",
        "loss = history.history['loss']\n",
        "loss_v = history.history['val_loss']\n",
        "\n",
        "epochs = range(len(acc))\n",
        "\n",
        "plt.plot(epochs, acc, 'b', label='Train')\n",
        "plt.plot(epochs, acc_v, 'r', label='Test')\n",
        "plt.legend()\n",
        "plt.title('accuracy')\n",
        "\n",
        "plt.figure()\n",
        "\n",
        "plt.plot(epochs, loss, 'b', label='Train')\n",
        "plt.plot(epochs, loss_v, 'r', label='Test')\n",
        "plt.title('loss')\n",
        "plt.legend()\n",
        "\n",
        "plt.show()"
      ],
      "execution_count": 33,
      "outputs": [
        {
          "output_type": "display_data",
          "data": {
            "image/png": "[encoded data removed]",
            "text/plain": [
              "<Figure size 432x288 with 1 Axes>"
            ]
          },
          "metadata": {
            "tags": [],
            "needs_background": "light"
          }
        },
        {
          "output_type": "display_data",
          "data": {
            "image/png": "[encoded data removed]",
            "text/plain": [
              "<Figure size 432x288 with 1 Axes>"
            ]
          },
          "metadata": {
            "tags": [],
            "needs_background": "light"
          }
        }
      ]
    },
    {
      "cell_type": "markdown",
      "metadata": {
        "id": "3J5SmEZfCk2u"
      },
      "source": [
        "Строим тест генератора"
      ]
    },
    {
      "cell_type": "code",
      "metadata": {
        "colab": {
          "base_uri": "https://localhost:8080/"
        },
        "id": "agENmyajCoCv",
        "outputId": "ee38053f-ce21-412b-a098-f62952e3a1ad"
      },
      "source": [
        "# начальная строка\n",
        "seed_text = \"Help me Obi Wan Kenobi, you're my only hope\"\n",
        "#seed_text = \"She is my girl, I see in\"\n",
        "next_words = 15\n",
        "# строим последовательность + новое предсказание  \n",
        "for _ in range(next_words):\n",
        "  # текущая последовательность (токенизация и дополнение)\n",
        "\ttoken_list = tokenizer.texts_to_sequences([seed_text])[0]\n",
        "\tprint(token_list)\n",
        "\ttoken_list = pad_sequences([token_list], maxlen=max_sequence_len-1, padding='pre')\n",
        "  # делаем предсказание (сразу как индекс класса - у нас 1 из 3211)\n",
        "\tpredicted = model.predict_classes(token_list, verbose=0)\n",
        "  # \n",
        "\toutput_word = \"\"\n",
        "\t# добавим новое слово в последовательность\n",
        "\tfor word, index in tokenizer.word_index.items():\n",
        "\t\tif index == predicted:\n",
        "\t\t\toutput_word = word\n",
        "\t\t\tbreak\n",
        "\tseed_text += \" \" + output_word\n",
        "print(seed_text)"
      ],
      "execution_count": 34,
      "outputs": [
        {
          "output_type": "stream",
          "text": [
            "[591, 18, 5, 352, 393]\n"
          ],
          "name": "stdout"
        },
        {
          "output_type": "stream",
          "text": [
            "/usr/local/lib/python3.7/dist-packages/tensorflow/python/keras/engine/sequential.py:455: UserWarning: `model.predict_classes()` is deprecated and will be removed after 2021-01-01. Please use instead:* `np.argmax(model.predict(x), axis=-1)`,   if your model does multi-class classification   (e.g. if it uses a `softmax` last-layer activation).* `(model.predict(x) > 0.5).astype(\"int32\")`,   if your model does binary classification   (e.g. if it uses a `sigmoid` last-layer activation).\n",
            "  warnings.warn('`model.predict_classes()` is deprecated and '\n"
          ],
          "name": "stderr"
        },
        {
          "output_type": "stream",
          "text": [
            "[591, 18, 5, 352, 393, 28]\n",
            "[591, 18, 5, 352, 393, 28, 18]\n",
            "[591, 18, 5, 352, 393, 28, 18, 152]\n",
            "[591, 18, 5, 352, 393, 28, 18, 152, 83]\n",
            "[591, 18, 5, 352, 393, 28, 18, 152, 83, 592]\n",
            "[591, 18, 5, 352, 393, 28, 18, 152, 83, 592, 145]\n",
            "[591, 18, 5, 352, 393, 28, 18, 152, 83, 592, 145, 755]\n",
            "[591, 18, 5, 352, 393, 28, 18, 152, 83, 592, 145, 755, 196]\n",
            "[591, 18, 5, 352, 393, 28, 18, 152, 83, 592, 145, 755, 196, 443]\n",
            "[591, 18, 5, 352, 393, 28, 18, 152, 83, 592, 145, 755, 196, 443, 465]\n",
            "[591, 18, 5, 352, 393, 28, 18, 152, 83, 592, 145, 755, 196, 443, 465, 443]\n",
            "[591, 18, 5, 352, 393, 28, 18, 152, 83, 592, 145, 755, 196, 443, 465, 443, 465]\n",
            "[591, 18, 5, 352, 393, 28, 18, 152, 83, 592, 145, 755, 196, 443, 465, 443, 465, 1607]\n",
            "[591, 18, 5, 352, 393, 28, 18, 152, 83, 592, 145, 755, 196, 443, 465, 443, 465, 1607, 2731]\n",
            "Help me Obi Wan Kenobi, you're my only hope it me know every report days remain lie rage wherein rage wherein tiger's intents tiger's\n"
          ],
          "name": "stdout"
        }
      ]
    },
    {
      "cell_type": "markdown",
      "metadata": {
        "id": "JZIiegCfCtma"
      },
      "source": [
        "То что видим = зацикливание после 3-го добавленного слова (i)\n",
        "\n",
        "Посмотрим на предсказание через вероятные ответы (не олно слово имеет большую вероятность)"
      ]
    },
    {
      "cell_type": "code",
      "metadata": {
        "id": "DuaxC596CvRn"
      },
      "source": [
        "y_p=model.predict(token_list)"
      ],
      "execution_count": 35,
      "outputs": []
    },
    {
      "cell_type": "code",
      "metadata": {
        "colab": {
          "base_uri": "https://localhost:8080/",
          "height": 295
        },
        "id": "2UpDb9YECzMR",
        "outputId": "5553751a-db0a-4d20-b7e1-f78bb33b6e47"
      },
      "source": [
        "plt.figure(figsize=(16,4))\n",
        "plt.plot(y_p[0,:])\n",
        "plt.xlabel('номер слова')\n",
        "plt.ylabel('вероятность слова')\n",
        "plt.title('вероятности по словам')\n",
        "plt.grid('on')\n",
        "plt.show()"
      ],
      "execution_count": 36,
      "outputs": [
        {
          "output_type": "display_data",
          "data": {
            "image/png": "[encoded data removed]",
            "text/plain": [
              "<Figure size 1152x288 with 1 Axes>"
            ]
          },
          "metadata": {
            "tags": [],
            "needs_background": "light"
          }
        }
      ]
    },
    {
      "cell_type": "code",
      "metadata": {
        "colab": {
          "base_uri": "https://localhost:8080/"
        },
        "id": "sYPH9oztIWfv",
        "outputId": "71fc0eee-db18-4029-bb01-48ef32fd2abc"
      },
      "source": [
        "ind_prob=np.where(y_p[0,:]>0.03410)[0]\n",
        "ind_prob"
      ],
      "execution_count": 23,
      "outputs": [
        {
          "output_type": "execute_result",
          "data": {
            "text/plain": [
              "array([], dtype=int64)"
            ]
          },
          "metadata": {
            "tags": []
          },
          "execution_count": 23
        }
      ]
    },
    {
      "cell_type": "code",
      "metadata": {
        "id": "9oF1PQeDIvb4"
      },
      "source": [
        "for i,ind in enumerate(ind_prob.tolist()):\n",
        "  print(tokenizer.index_word[ind], ' : ', y_p[0,ind])"
      ],
      "execution_count": 24,
      "outputs": []
    },
    {
      "cell_type": "code",
      "metadata": {
        "colab": {
          "base_uri": "https://localhost:8080/"
        },
        "id": "d1ifM_bULknC",
        "outputId": "84112fa2-b415-483c-8614-2f7284d2f40f"
      },
      "source": [
        "seed_text = \"Help me Obi Wan Kenobi, you're my only hope\"\n",
        "#seed_text = \"She is my girl, I see in\"\n",
        "next_words = 15\n",
        "  \n",
        "for _ in range(next_words):\n",
        "  token_list = tokenizer.texts_to_sequences([seed_text])[0]\n",
        "  print(token_list)\n",
        "  token_list = pad_sequences([token_list], maxlen=max_sequence_len-1, padding='pre')\n",
        "  #predicted = model.predict_classes(token_list, verbose=0)\n",
        "  output_word = \"\"\n",
        "  y_p=model.predict(token_list)\n",
        "  y_predict = y_p * np.random.random(  size = (1,y_p.shape[1]))\n",
        "  predicted_ind = np.argmax(y_predict,axis = 1)\n",
        "  for word, index in tokenizer.word_index.items():\n",
        "    if index == predicted_ind:\n",
        "      output_word = word\n",
        "      break\n",
        "  seed_text += \" \" + output_word\n",
        "print(seed_text)"
      ],
      "execution_count": 25,
      "outputs": [
        {
          "output_type": "stream",
          "text": [
            "[591, 18, 5, 352, 393]\n",
            "[591, 18, 5, 352, 393, 3]\n",
            "[591, 18, 5, 352, 393, 3, 18]\n",
            "[591, 18, 5, 352, 393, 3, 18, 32]\n",
            "[591, 18, 5, 352, 393, 3, 18, 32, 196]\n",
            "[591, 18, 5, 352, 393, 3, 18, 32, 196, 147]\n",
            "[591, 18, 5, 352, 393, 3, 18, 32, 196, 147, 21]\n",
            "[591, 18, 5, 352, 393, 3, 18, 32, 196, 147, 21, 128]\n",
            "[591, 18, 5, 352, 393, 3, 18, 32, 196, 147, 21, 128, 6]\n",
            "[591, 18, 5, 352, 393, 3, 18, 32, 196, 147, 21, 128, 6, 63]\n",
            "[591, 18, 5, 352, 393, 3, 18, 32, 196, 147, 21, 128, 6, 63, 33]\n",
            "[591, 18, 5, 352, 393, 3, 18, 32, 196, 147, 21, 128, 6, 63, 33, 18]\n",
            "[591, 18, 5, 352, 393, 3, 18, 32, 196, 147, 21, 128, 6, 63, 33, 18, 235]\n",
            "[591, 18, 5, 352, 393, 3, 18, 32, 196, 147, 21, 128, 6, 63, 33, 18, 235, 18]\n",
            "[591, 18, 5, 352, 393, 3, 18, 32, 196, 147, 21, 128, 6, 63, 33, 18, 235, 18, 196]\n",
            "Help me Obi Wan Kenobi, you're my only hope to me doth lie ' be face i now do me seen me lie lie\n"
          ],
          "name": "stdout"
        }
      ]
    },
    {
      "cell_type": "markdown",
      "metadata": {
        "id": "Hoip9neOLwpg"
      },
      "source": [
        "Help me Obi Wan Kenobi, you're my only hope to thee doth lie night ' night be time affords night doth sight doth gone\n",
        "Зацикливание на слове ночь"
      ]
    },
    {
      "cell_type": "markdown",
      "metadata": {
        "id": "ahBlKsV3L7k3"
      },
      "source": [
        "####**Ответ** Попробую добавить слой в модель"
      ]
    },
    {
      "cell_type": "code",
      "metadata": {
        "id": "NtNqPf2q4XDS"
      },
      "source": [
        "# model.add(Dense(total_words/4, activation='relu', kernel_regularizer=regularizers.l2(0.01)))"
      ],
      "execution_count": null,
      "outputs": []
    },
    {
      "cell_type": "markdown",
      "metadata": {
        "id": "JsS-N59XWz4N"
      },
      "source": [
        "Первый вариант с ранним остановом остановился на val_accuracy: 0.0239, пробую отключить и обучать на 20ти эпохах "
      ]
    },
    {
      "cell_type": "markdown",
      "metadata": {
        "id": "KCHKga-1vE2D"
      },
      "source": [
        "Увеличение val_accuracy примерно 1 тысячная на эпоху, заменю активационную добавленного слоя на tanh и попробую 30 эпох"
      ]
    },
    {
      "cell_type": "code",
      "metadata": {
        "id": "_WVA-8rz4dye"
      },
      "source": [
        "# model.add(Dense(total_words/4, activation='tanh', kernel_regularizer=regularizers.l2(0.01)))"
      ],
      "execution_count": null,
      "outputs": []
    },
    {
      "cell_type": "markdown",
      "metadata": {
        "id": "gvPUVs-71pIs"
      },
      "source": [
        "Самый высокий val_accuracy: 0.0375 был на 9ой эпохе, изменение кол-во эпох активационной функции и добавление слоя не дает особого добавление val_accuracy"
      ]
    },
    {
      "cell_type": "markdown",
      "metadata": {
        "id": "2bZKajdt42ad"
      },
      "source": [
        "Возвращаю параметры и callback, пробую LSTM(64) - val_accuracy: 0.0352 на 9ой эпохе\n"
      ]
    },
    {
      "cell_type": "markdown",
      "metadata": {
        "id": "9QtNJv0S7Dwi"
      },
      "source": [
        ""
      ]
    },
    {
      "cell_type": "markdown",
      "metadata": {
        "id": "9Lhm_Z-q7POT"
      },
      "source": [
        "LSTM(32) - val_accuracy: 0.0372 на 11  эпохе\n",
        "\n"
      ]
    },
    {
      "cell_type": "markdown",
      "metadata": {
        "id": "eH3XQCVA8j2-"
      },
      "source": [
        "LSTM(16) val_accuracy: 0.0262"
      ]
    },
    {
      "cell_type": "markdown",
      "metadata": {
        "id": "xxGcoALD_8vN"
      },
      "source": [
        "ПРобую функцию активации tanh - val_accuracy: 0.0307 на 8ой эпохе"
      ]
    },
    {
      "cell_type": "code",
      "metadata": {
        "id": "FtMd-IQDL3LN",
        "colab": {
          "base_uri": "https://localhost:8080/"
        },
        "outputId": "95c6ed7a-559a-476a-d63c-200ef5b53294"
      },
      "source": [
        "model = Sequential()\n",
        "model.add(Embedding(total_words, 256, input_length=max_sequence_len-1))  # вложение тренируемое для перехода от слова к его векторному коду \n",
        "# на вход вложения (эмбединга) передаем вектор словарь (длина равна словарю, вектор разреженный)), на выход строим вектор из n (тут 256) координат - он плотный\n",
        "#model.add(Bidirectional(LSTM(50, return_sequences = True)))\n",
        "\n",
        "model.add(LSTM(10))\n",
        "model.add(Dropout(0.2))\n",
        "model.add(Dense(total_words/2, activation='relu', kernel_regularizer=regularizers.l2(0.01)))\n",
        "model.add(Dense(total_words, activation='softmax'))\n",
        "model.compile(loss='categorical_crossentropy', optimizer='adam', metrics=['accuracy'])\n",
        "print(model.summary())"
      ],
      "execution_count": 49,
      "outputs": [
        {
          "output_type": "stream",
          "text": [
            "Model: \"sequential_12\"\n",
            "_________________________________________________________________\n",
            "Layer (type)                 Output Shape              Param #   \n",
            "=================================================================\n",
            "embedding_12 (Embedding)     (None, 10, 256)           822016    \n",
            "_________________________________________________________________\n",
            "lstm_12 (LSTM)               (None, 10)                10680     \n",
            "_________________________________________________________________\n",
            "dropout_12 (Dropout)         (None, 10)                0         \n",
            "_________________________________________________________________\n",
            "dense_28 (Dense)             (None, 1605)              17655     \n",
            "_________________________________________________________________\n",
            "dense_29 (Dense)             (None, 3211)              5156866   \n",
            "=================================================================\n",
            "Total params: 6,007,217\n",
            "Trainable params: 6,007,217\n",
            "Non-trainable params: 0\n",
            "_________________________________________________________________\n",
            "None\n"
          ],
          "name": "stdout"
        }
      ]
    },
    {
      "cell_type": "code",
      "metadata": {
        "colab": {
          "base_uri": "https://localhost:8080/"
        },
        "id": "3S_YKsa5VS-S",
        "outputId": "4b3671c2-05df-4d33-838a-efebe4beb626"
      },
      "source": [
        "history = model.fit(predictors, label, epochs=30, validation_split=0.2, verbose=1, callbacks=[callback])"
      ],
      "execution_count": 48,
      "outputs": [
        {
          "output_type": "stream",
          "text": [
            "Epoch 1/30\n",
            "387/387 [==============================] - 28s 68ms/step - loss: 6.9623 - accuracy: 0.0231 - val_loss: 6.8632 - val_accuracy: 0.0165\n",
            "Epoch 2/30\n",
            "387/387 [==============================] - 26s 66ms/step - loss: 6.5317 - accuracy: 0.0260 - val_loss: 6.9618 - val_accuracy: 0.0200\n",
            "Epoch 3/30\n",
            "387/387 [==============================] - 26s 66ms/step - loss: 6.4544 - accuracy: 0.0246 - val_loss: 7.0861 - val_accuracy: 0.0184\n",
            "Epoch 4/30\n",
            "387/387 [==============================] - 25s 66ms/step - loss: 6.3821 - accuracy: 0.0269 - val_loss: 7.0893 - val_accuracy: 0.0191\n",
            "Epoch 5/30\n",
            "387/387 [==============================] - 26s 66ms/step - loss: 6.2994 - accuracy: 0.0297 - val_loss: 7.1318 - val_accuracy: 0.0249\n",
            "Epoch 6/30\n",
            "387/387 [==============================] - 26s 66ms/step - loss: 6.2385 - accuracy: 0.0311 - val_loss: 7.2128 - val_accuracy: 0.0223\n",
            "Epoch 7/30\n",
            "387/387 [==============================] - 26s 66ms/step - loss: 6.1988 - accuracy: 0.0362 - val_loss: 7.3027 - val_accuracy: 0.0207\n",
            "Epoch 8/30\n",
            "387/387 [==============================] - 26s 66ms/step - loss: 6.1563 - accuracy: 0.0357 - val_loss: 7.2835 - val_accuracy: 0.0307\n",
            "Epoch 9/30\n",
            "387/387 [==============================] - 26s 66ms/step - loss: 6.1192 - accuracy: 0.0401 - val_loss: 7.4756 - val_accuracy: 0.0226\n",
            "Epoch 10/30\n",
            "387/387 [==============================] - 25s 66ms/step - loss: 6.0749 - accuracy: 0.0429 - val_loss: 7.4723 - val_accuracy: 0.0272\n",
            "Epoch 11/30\n",
            "387/387 [==============================] - 26s 66ms/step - loss: 6.0322 - accuracy: 0.0428 - val_loss: 7.5846 - val_accuracy: 0.0233\n"
          ],
          "name": "stdout"
        }
      ]
    },
    {
      "cell_type": "markdown",
      "metadata": {
        "id": "8efqby0gDwp7"
      },
      "source": [
        "####D В итоге максимум что получилось добиться это LSTM(32) - val_accuracy: 0.0372 на 11  эпохе"
      ]
    }
  ]
}