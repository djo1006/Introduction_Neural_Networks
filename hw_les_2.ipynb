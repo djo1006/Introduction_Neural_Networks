{
  "nbformat": 4,
  "nbformat_minor": 0,
  "metadata": {
    "colab": {
      "name": "hw_les_2.ipynb",
      "provenance": [],
      "collapsed_sections": []
    },
    "kernelspec": {
      "name": "python3",
      "display_name": "Python 3"
    },
    "language_info": {
      "name": "python"
    },
    "accelerator": "GPU"
  },
  "cells": [
    {
      "cell_type": "markdown",
      "metadata": {
        "id": "BVM11uer-3Ql"
      },
      "source": [
        "## Практическое задание\n",
        "\n",
        "Используем набор примеров fashion-MNIST\n",
        "\n",
        "1.  Опишите - какой результата получен в нейросети в зависимости от:\n",
        "  -  числа нейронов в слое(для 2-хслойной сети), \n",
        "  - числа слоев (2, 3, 5, 10) при близких размерах сети (близкое число тренируемых парметров).\n",
        "  - фиксируйте для тренировочного и тестового набора метрики accuracy.\n",
        "2.  Проверьте работу разных оптимизаторов (SGD, Adam, RMSProp) для одной из моделей п.1.Фиксируйте для тренировочного и тестового набора метрики accuracy.\n",
        "\n",
        "3. Сделайте вывод - что помогло вам улучшить качество классификации в нейросети на тестовом наборе? \n",
        "\n",
        "4. Для одного варианта сетей сформируйте матрицу ошибок по классам. Оцените качество модели по каждому классу отдельно (полнота , точность). Сделайте вывод."
      ]
    },
    {
      "cell_type": "code",
      "metadata": {
        "id": "ObH-wHJ-_R6q"
      },
      "source": [
        "import numpy as np\n",
        "#import mnist\n",
        "from keras.models import Sequential\n",
        "from keras.layers import Dense\n",
        "from keras.datasets import mnist\n",
        "from tensorflow.keras.utils import to_categorical\n",
        "import matplotlib.pyplot as plt\n",
        "import pandas as pd"
      ],
      "execution_count": 4,
      "outputs": []
    },
    {
      "cell_type": "code",
      "metadata": {
        "id": "XBRstikJ-wH5"
      },
      "source": [
        "from keras.datasets import fashion_mnist"
      ],
      "execution_count": 5,
      "outputs": []
    },
    {
      "cell_type": "code",
      "metadata": {
        "colab": {
          "base_uri": "https://localhost:8080/"
        },
        "id": "LueKd8l9-1AH",
        "outputId": "7670287d-5527-4be2-98e9-2a1360a59267"
      },
      "source": [
        "(train_imagef,train_labelf),(test_imagef,test_labelf)=fashion_mnist.load_data()"
      ],
      "execution_count": 6,
      "outputs": [
        {
          "output_type": "stream",
          "text": [
            "Downloading data from https://storage.googleapis.com/tensorflow/tf-keras-datasets/train-labels-idx1-ubyte.gz\n",
            "32768/29515 [=================================] - 0s 0us/step\n",
            "40960/29515 [=========================================] - 0s 0us/step\n",
            "Downloading data from https://storage.googleapis.com/tensorflow/tf-keras-datasets/train-images-idx3-ubyte.gz\n",
            "26427392/26421880 [==============================] - 0s 0us/step\n",
            "26435584/26421880 [==============================] - 0s 0us/step\n",
            "Downloading data from https://storage.googleapis.com/tensorflow/tf-keras-datasets/t10k-labels-idx1-ubyte.gz\n",
            "16384/5148 [===============================================================================================] - 0s 0us/step\n",
            "Downloading data from https://storage.googleapis.com/tensorflow/tf-keras-datasets/t10k-images-idx3-ubyte.gz\n",
            "4423680/4422102 [==============================] - 0s 0us/step\n",
            "4431872/4422102 [==============================] - 0s 0us/step\n"
          ],
          "name": "stdout"
        }
      ]
    },
    {
      "cell_type": "code",
      "metadata": {
        "colab": {
          "base_uri": "https://localhost:8080/",
          "height": 265
        },
        "id": "7l7BAVg1-9k9",
        "outputId": "1cf18b27-4c74-409d-bebc-6d7e71d0551b"
      },
      "source": [
        "plt.imshow(train_imagef[1501,:,:])\n",
        "plt.show()"
      ],
      "execution_count": 7,
      "outputs": [
        {
          "output_type": "display_data",
          "data": {
            "image/png": "[encoded data removed]",
            "text/plain": [
              "<Figure size 432x288 with 1 Axes>"
            ]
          },
          "metadata": {
            "tags": [],
            "needs_background": "light"
          }
        }
      ]
    },
    {
      "cell_type": "code",
      "metadata": {
        "colab": {
          "base_uri": "https://localhost:8080/"
        },
        "id": "zANJTJTYAIiK",
        "outputId": "ac7dca07-5da5-4994-9c5c-76edb9d76542"
      },
      "source": [
        "train_labelf[:7]"
      ],
      "execution_count": 8,
      "outputs": [
        {
          "output_type": "execute_result",
          "data": {
            "text/plain": [
              "array([9, 0, 0, 3, 0, 2, 7], dtype=uint8)"
            ]
          },
          "metadata": {
            "tags": []
          },
          "execution_count": 8
        }
      ]
    },
    {
      "cell_type": "code",
      "metadata": {
        "id": "cU9efmmM_q7C"
      },
      "source": [
        "# Normalize the images.\n",
        "train_imagef = (train_imagef / 127) - 1\n",
        "test_imagef = (test_imagef / 127) - 1"
      ],
      "execution_count": 9,
      "outputs": []
    },
    {
      "cell_type": "code",
      "metadata": {
        "colab": {
          "base_uri": "https://localhost:8080/"
        },
        "id": "V9RyedRW_8La",
        "outputId": "75c6a990-43f2-44e3-a494-7b835839e147"
      },
      "source": [
        "# Flatten the images.\n",
        "train_imagef = train_imagef.reshape((-1, 784))\n",
        "test_imagef = test_imagef.reshape((-1, 784))\n",
        "\n",
        "print(train_imagef.shape) # (60000, 784)\n",
        "print(test_imagef.shape)  # (10000, 784)"
      ],
      "execution_count": 10,
      "outputs": [
        {
          "output_type": "stream",
          "text": [
            "(60000, 784)\n",
            "(10000, 784)\n"
          ],
          "name": "stdout"
        }
      ]
    },
    {
      "cell_type": "code",
      "metadata": {
        "id": "vX3gl0SuAziA"
      },
      "source": [
        "y_t = to_categorical(train_labelf)\n",
        "y_tt = to_categorical(test_labelf)"
      ],
      "execution_count": 11,
      "outputs": []
    },
    {
      "cell_type": "code",
      "metadata": {
        "id": "_k84kwNaEqJ6"
      },
      "source": [
        "results = {\n",
        "    'neuron_numb': [],\n",
        "    'epochs_numb': [],\n",
        "    'layers_numb': [],\n",
        "    'accuracy': [],\n",
        "    'val_accuracy': [],\n",
        "    'optimizer': [],\n",
        "}"
      ],
      "execution_count": 26,
      "outputs": []
    },
    {
      "cell_type": "code",
      "metadata": {
        "colab": {
          "base_uri": "https://localhost:8080/"
        },
        "id": "Q6hoZo4iPivP",
        "outputId": "92868640-aba9-41a4-d594-2f71d6121ead"
      },
      "source": [
        "# Кол-во нейронов в исходящем слое равно кол-ву классов\n",
        "my_set = set(train_labelf)\n",
        "my_set"
      ],
      "execution_count": 13,
      "outputs": [
        {
          "output_type": "execute_result",
          "data": {
            "text/plain": [
              "{0, 1, 2, 3, 4, 5, 6, 7, 8, 9}"
            ]
          },
          "metadata": {
            "tags": []
          },
          "execution_count": 13
        }
      ]
    },
    {
      "cell_type": "code",
      "metadata": {
        "id": "eHpgxyAC_b1y"
      },
      "source": [
        "def create_fit_model(results, layers_numb, epochs_numb, neuron_numb_list):\n",
        "  # Build the model.\n",
        "  # neuron_numb_list = []\n",
        "  model = Sequential(name='my_model')\n",
        "  model.add(Dense(128, activation='relu', input_shape=(784,)))\n",
        "  for k in range(layers_numb):\n",
        "    # neuron_numb = 20+(10-k)*10\n",
        "    # neuron_numb_list.append(neuron_numb)\n",
        "    neuron_numb = neuron_numb_list[k]\n",
        "    print(f'Слой {k} кол-во нейронов {neuron_numb}')\n",
        "    model.add(Dense(neuron_numb, activation='tanh'))\n",
        "\n",
        "  model.add(Dense(10, activation='softmax')) \n",
        "\n",
        "  # Compile the model.\n",
        "  model.compile(\n",
        "    optimizer='adam',\n",
        "    loss='categorical_crossentropy',\n",
        "    metrics=['accuracy'],\n",
        "  )\n",
        "\n",
        "  # Train the model.\n",
        "  hh = model.fit(  \n",
        "    train_imagef[:,:],\n",
        "    y_t[:,:],\n",
        "    epochs=epochs_numb,\n",
        "    batch_size=32, validation_split=0.2\n",
        "  )\n",
        "\n",
        "  # Evaluate the model.\n",
        "  model.evaluate( \n",
        "    test_imagef,\n",
        "    y_tt\n",
        "  )\n",
        "\n",
        "  results['neuron_numb'].append(neuron_numb_list)\n",
        "  results['epochs_numb'].append(epochs_numb)\n",
        "  results['layers_numb'].append(layers_numb)\n",
        "  results['optimizer'].append('adam')\n",
        "  results['accuracy'].append(hh.history['accuracy'][-1])\n",
        "  results['val_accuracy'].append(hh.history['val_accuracy'][-1])\n",
        "  return hh, model"
      ],
      "execution_count": 73,
      "outputs": []
    },
    {
      "cell_type": "code",
      "metadata": {
        "colab": {
          "base_uri": "https://localhost:8080/"
        },
        "id": "tpqVLRErDsth",
        "outputId": "09814a9f-6bf6-439e-8793-971649c97407"
      },
      "source": [
        "create_fit_model(results, 2, 15, [110, 100])\n",
        "create_fit_model(results, 2, 15, [130, 120])\n",
        "create_fit_model(results, 2, 15, [140, 130])\n",
        "create_fit_model(results, 2, 15, [50, 40])\n",
        "create_fit_model(results, 2, 15, [75, 65])"
      ],
      "execution_count": 28,
      "outputs": [
        {
          "output_type": "stream",
          "text": [
            "Слой 0 кол-во нейронов 120\n",
            "Слой 1 кол-во нейронов 110\n",
            "Epoch 1/15\n",
            "1500/1500 [==============================] - 5s 3ms/step - loss: 0.6226 - accuracy: 0.7752 - val_loss: 0.4015 - val_accuracy: 0.8536\n",
            "Epoch 2/15\n",
            "1500/1500 [==============================] - 4s 3ms/step - loss: 0.3887 - accuracy: 0.8562 - val_loss: 0.3867 - val_accuracy: 0.8638\n",
            "Epoch 3/15\n",
            "1500/1500 [==============================] - 4s 3ms/step - loss: 0.3461 - accuracy: 0.8729 - val_loss: 0.3728 - val_accuracy: 0.8654\n",
            "Epoch 4/15\n",
            "1500/1500 [==============================] - 4s 3ms/step - loss: 0.3282 - accuracy: 0.8800 - val_loss: 0.3646 - val_accuracy: 0.8646\n",
            "Epoch 5/15\n",
            "1500/1500 [==============================] - 4s 3ms/step - loss: 0.3051 - accuracy: 0.8868 - val_loss: 0.3474 - val_accuracy: 0.8760\n",
            "Epoch 6/15\n",
            "1500/1500 [==============================] - 5s 3ms/step - loss: 0.2920 - accuracy: 0.8912 - val_loss: 0.3545 - val_accuracy: 0.8768\n",
            "Epoch 7/15\n",
            "1500/1500 [==============================] - 4s 3ms/step - loss: 0.2783 - accuracy: 0.8958 - val_loss: 0.3511 - val_accuracy: 0.8774\n",
            "Epoch 8/15\n",
            "1500/1500 [==============================] - 5s 3ms/step - loss: 0.2669 - accuracy: 0.8990 - val_loss: 0.3264 - val_accuracy: 0.8843\n",
            "Epoch 9/15\n",
            "1500/1500 [==============================] - 5s 3ms/step - loss: 0.2525 - accuracy: 0.9056 - val_loss: 0.3313 - val_accuracy: 0.8821\n",
            "Epoch 10/15\n",
            "1500/1500 [==============================] - 4s 3ms/step - loss: 0.2383 - accuracy: 0.9102 - val_loss: 0.3377 - val_accuracy: 0.8784\n",
            "Epoch 11/15\n",
            "1500/1500 [==============================] - 4s 3ms/step - loss: 0.2349 - accuracy: 0.9114 - val_loss: 0.3246 - val_accuracy: 0.8854\n",
            "Epoch 12/15\n",
            "1500/1500 [==============================] - 5s 3ms/step - loss: 0.2239 - accuracy: 0.9159 - val_loss: 0.3367 - val_accuracy: 0.8881\n",
            "Epoch 13/15\n",
            "1500/1500 [==============================] - 4s 3ms/step - loss: 0.2185 - accuracy: 0.9177 - val_loss: 0.3382 - val_accuracy: 0.8830\n",
            "Epoch 14/15\n",
            "1500/1500 [==============================] - 4s 3ms/step - loss: 0.2130 - accuracy: 0.9190 - val_loss: 0.3418 - val_accuracy: 0.8814\n",
            "Epoch 15/15\n",
            "1500/1500 [==============================] - 4s 3ms/step - loss: 0.2053 - accuracy: 0.9233 - val_loss: 0.3409 - val_accuracy: 0.8838\n",
            "313/313 [==============================] - 1s 3ms/step - loss: 0.3671 - accuracy: 0.8758\n",
            "Слой 0 кол-во нейронов 130\n",
            "Слой 1 кол-во нейронов 120\n",
            "Epoch 1/15\n",
            "1500/1500 [==============================] - 6s 3ms/step - loss: 0.6209 - accuracy: 0.7763 - val_loss: 0.4375 - val_accuracy: 0.8353\n",
            "Epoch 2/15\n",
            "1500/1500 [==============================] - 4s 3ms/step - loss: 0.3790 - accuracy: 0.8638 - val_loss: 0.3675 - val_accuracy: 0.8643\n",
            "Epoch 3/15\n",
            "1500/1500 [==============================] - 4s 3ms/step - loss: 0.3474 - accuracy: 0.8732 - val_loss: 0.4052 - val_accuracy: 0.8494\n",
            "Epoch 4/15\n",
            "1500/1500 [==============================] - 4s 3ms/step - loss: 0.3200 - accuracy: 0.8830 - val_loss: 0.3417 - val_accuracy: 0.8732\n",
            "Epoch 5/15\n",
            "1500/1500 [==============================] - 4s 3ms/step - loss: 0.3029 - accuracy: 0.8880 - val_loss: 0.3334 - val_accuracy: 0.8780\n",
            "Epoch 6/15\n",
            "1500/1500 [==============================] - 4s 3ms/step - loss: 0.2896 - accuracy: 0.8933 - val_loss: 0.3390 - val_accuracy: 0.8779\n",
            "Epoch 7/15\n",
            "1500/1500 [==============================] - 4s 3ms/step - loss: 0.2764 - accuracy: 0.8964 - val_loss: 0.3346 - val_accuracy: 0.8790\n",
            "Epoch 8/15\n",
            "1500/1500 [==============================] - 4s 3ms/step - loss: 0.2700 - accuracy: 0.8998 - val_loss: 0.3333 - val_accuracy: 0.8837\n",
            "Epoch 9/15\n",
            "1500/1500 [==============================] - 4s 3ms/step - loss: 0.2522 - accuracy: 0.9047 - val_loss: 0.3246 - val_accuracy: 0.8817\n",
            "Epoch 10/15\n",
            "1500/1500 [==============================] - 4s 3ms/step - loss: 0.2359 - accuracy: 0.9124 - val_loss: 0.3209 - val_accuracy: 0.8855\n",
            "Epoch 11/15\n",
            "1500/1500 [==============================] - 5s 3ms/step - loss: 0.2337 - accuracy: 0.9124 - val_loss: 0.3391 - val_accuracy: 0.8834\n",
            "Epoch 12/15\n",
            "1500/1500 [==============================] - 5s 3ms/step - loss: 0.2219 - accuracy: 0.9174 - val_loss: 0.3266 - val_accuracy: 0.8874\n",
            "Epoch 13/15\n",
            "1500/1500 [==============================] - 4s 3ms/step - loss: 0.2123 - accuracy: 0.9218 - val_loss: 0.3378 - val_accuracy: 0.8840\n",
            "Epoch 14/15\n",
            "1500/1500 [==============================] - 5s 3ms/step - loss: 0.2102 - accuracy: 0.9222 - val_loss: 0.3429 - val_accuracy: 0.8841\n",
            "Epoch 15/15\n",
            "1500/1500 [==============================] - 4s 3ms/step - loss: 0.2042 - accuracy: 0.9237 - val_loss: 0.3376 - val_accuracy: 0.8845\n",
            "313/313 [==============================] - 1s 2ms/step - loss: 0.3619 - accuracy: 0.8764\n",
            "Слой 0 кол-во нейронов 140\n",
            "Слой 1 кол-во нейронов 130\n",
            "Epoch 1/15\n",
            "1500/1500 [==============================] - 5s 3ms/step - loss: 0.6166 - accuracy: 0.7763 - val_loss: 0.4179 - val_accuracy: 0.8456\n",
            "Epoch 2/15\n",
            "1500/1500 [==============================] - 4s 3ms/step - loss: 0.3879 - accuracy: 0.8577 - val_loss: 0.3742 - val_accuracy: 0.8684\n",
            "Epoch 3/15\n",
            "1500/1500 [==============================] - 4s 3ms/step - loss: 0.3520 - accuracy: 0.8702 - val_loss: 0.3677 - val_accuracy: 0.8652\n",
            "Epoch 4/15\n",
            "1500/1500 [==============================] - 4s 3ms/step - loss: 0.3210 - accuracy: 0.8821 - val_loss: 0.3555 - val_accuracy: 0.8721\n",
            "Epoch 5/15\n",
            "1500/1500 [==============================] - 4s 3ms/step - loss: 0.3010 - accuracy: 0.8866 - val_loss: 0.3640 - val_accuracy: 0.8704\n",
            "Epoch 6/15\n",
            "1500/1500 [==============================] - 4s 3ms/step - loss: 0.2857 - accuracy: 0.8935 - val_loss: 0.3375 - val_accuracy: 0.8785\n",
            "Epoch 7/15\n",
            "1500/1500 [==============================] - 4s 3ms/step - loss: 0.2747 - accuracy: 0.8962 - val_loss: 0.3423 - val_accuracy: 0.8782\n",
            "Epoch 8/15\n",
            "1500/1500 [==============================] - 5s 3ms/step - loss: 0.2637 - accuracy: 0.8990 - val_loss: 0.3401 - val_accuracy: 0.8779\n",
            "Epoch 9/15\n",
            "1500/1500 [==============================] - 4s 3ms/step - loss: 0.2492 - accuracy: 0.9072 - val_loss: 0.3424 - val_accuracy: 0.8775\n",
            "Epoch 10/15\n",
            "1500/1500 [==============================] - 5s 3ms/step - loss: 0.2334 - accuracy: 0.9121 - val_loss: 0.3546 - val_accuracy: 0.8761\n",
            "Epoch 11/15\n",
            "1500/1500 [==============================] - 5s 3ms/step - loss: 0.2281 - accuracy: 0.9150 - val_loss: 0.3336 - val_accuracy: 0.8843\n",
            "Epoch 12/15\n",
            "1500/1500 [==============================] - 5s 3ms/step - loss: 0.2174 - accuracy: 0.9181 - val_loss: 0.3404 - val_accuracy: 0.8839\n",
            "Epoch 13/15\n",
            "1500/1500 [==============================] - 5s 3ms/step - loss: 0.2145 - accuracy: 0.9204 - val_loss: 0.3309 - val_accuracy: 0.8853\n",
            "Epoch 14/15\n",
            "1500/1500 [==============================] - 4s 3ms/step - loss: 0.2117 - accuracy: 0.9189 - val_loss: 0.3478 - val_accuracy: 0.8817\n",
            "Epoch 15/15\n",
            "1500/1500 [==============================] - 5s 3ms/step - loss: 0.2013 - accuracy: 0.9241 - val_loss: 0.3404 - val_accuracy: 0.8848\n",
            "313/313 [==============================] - 1s 2ms/step - loss: 0.3583 - accuracy: 0.8799\n",
            "Слой 0 кол-во нейронов 50\n",
            "Слой 1 кол-во нейронов 40\n",
            "Epoch 1/15\n",
            "1500/1500 [==============================] - 5s 3ms/step - loss: 0.6565 - accuracy: 0.7731 - val_loss: 0.4671 - val_accuracy: 0.8253\n",
            "Epoch 2/15\n",
            "1500/1500 [==============================] - 4s 3ms/step - loss: 0.4111 - accuracy: 0.8482 - val_loss: 0.3828 - val_accuracy: 0.8598\n",
            "Epoch 3/15\n",
            "1500/1500 [==============================] - 4s 3ms/step - loss: 0.3573 - accuracy: 0.8694 - val_loss: 0.3654 - val_accuracy: 0.8670\n",
            "Epoch 4/15\n",
            "1500/1500 [==============================] - 5s 3ms/step - loss: 0.3361 - accuracy: 0.8764 - val_loss: 0.3723 - val_accuracy: 0.8646\n",
            "Epoch 5/15\n",
            "1500/1500 [==============================] - 4s 3ms/step - loss: 0.3132 - accuracy: 0.8860 - val_loss: 0.3428 - val_accuracy: 0.8766\n",
            "Epoch 6/15\n",
            "1500/1500 [==============================] - 5s 3ms/step - loss: 0.3006 - accuracy: 0.8913 - val_loss: 0.3536 - val_accuracy: 0.8767\n",
            "Epoch 7/15\n",
            "1500/1500 [==============================] - 4s 3ms/step - loss: 0.2835 - accuracy: 0.8960 - val_loss: 0.3350 - val_accuracy: 0.8813\n",
            "Epoch 8/15\n",
            "1500/1500 [==============================] - 5s 3ms/step - loss: 0.2749 - accuracy: 0.8991 - val_loss: 0.3323 - val_accuracy: 0.8836\n",
            "Epoch 9/15\n",
            "1500/1500 [==============================] - 4s 3ms/step - loss: 0.2669 - accuracy: 0.9016 - val_loss: 0.3648 - val_accuracy: 0.8681\n",
            "Epoch 10/15\n",
            "1500/1500 [==============================] - 4s 3ms/step - loss: 0.2561 - accuracy: 0.9062 - val_loss: 0.3280 - val_accuracy: 0.8834\n",
            "Epoch 11/15\n",
            "1500/1500 [==============================] - 4s 3ms/step - loss: 0.2532 - accuracy: 0.9080 - val_loss: 0.3610 - val_accuracy: 0.8685\n",
            "Epoch 12/15\n",
            "1500/1500 [==============================] - 4s 3ms/step - loss: 0.2432 - accuracy: 0.9100 - val_loss: 0.3203 - val_accuracy: 0.8882\n",
            "Epoch 13/15\n",
            "1500/1500 [==============================] - 4s 3ms/step - loss: 0.2334 - accuracy: 0.9144 - val_loss: 0.3329 - val_accuracy: 0.8854\n",
            "Epoch 14/15\n",
            "1500/1500 [==============================] - 4s 3ms/step - loss: 0.2283 - accuracy: 0.9153 - val_loss: 0.3418 - val_accuracy: 0.8832\n",
            "Epoch 15/15\n",
            "1500/1500 [==============================] - 4s 3ms/step - loss: 0.2240 - accuracy: 0.9173 - val_loss: 0.3259 - val_accuracy: 0.8898\n",
            "313/313 [==============================] - 1s 3ms/step - loss: 0.3661 - accuracy: 0.8779\n",
            "Слой 0 кол-во нейронов 75\n",
            "Слой 1 кол-во нейронов 65\n",
            "Epoch 1/15\n",
            "1500/1500 [==============================] - 6s 3ms/step - loss: 0.6272 - accuracy: 0.7791 - val_loss: 0.4426 - val_accuracy: 0.8419\n",
            "Epoch 2/15\n",
            "1500/1500 [==============================] - 5s 3ms/step - loss: 0.4007 - accuracy: 0.8550 - val_loss: 0.3829 - val_accuracy: 0.8625\n",
            "Epoch 3/15\n",
            "1500/1500 [==============================] - 5s 3ms/step - loss: 0.3570 - accuracy: 0.8696 - val_loss: 0.3634 - val_accuracy: 0.8676\n",
            "Epoch 4/15\n",
            "1500/1500 [==============================] - 4s 3ms/step - loss: 0.3263 - accuracy: 0.8800 - val_loss: 0.3437 - val_accuracy: 0.8770\n",
            "Epoch 5/15\n",
            "1500/1500 [==============================] - 4s 3ms/step - loss: 0.3111 - accuracy: 0.8855 - val_loss: 0.3719 - val_accuracy: 0.8654\n",
            "Epoch 6/15\n",
            "1500/1500 [==============================] - 4s 3ms/step - loss: 0.2955 - accuracy: 0.8897 - val_loss: 0.3600 - val_accuracy: 0.8666\n",
            "Epoch 7/15\n",
            "1500/1500 [==============================] - 4s 3ms/step - loss: 0.2838 - accuracy: 0.8936 - val_loss: 0.3302 - val_accuracy: 0.8817\n",
            "Epoch 8/15\n",
            "1500/1500 [==============================] - 4s 3ms/step - loss: 0.2768 - accuracy: 0.8960 - val_loss: 0.3557 - val_accuracy: 0.8723\n",
            "Epoch 9/15\n",
            "1500/1500 [==============================] - 4s 3ms/step - loss: 0.2686 - accuracy: 0.8993 - val_loss: 0.3439 - val_accuracy: 0.8798\n",
            "Epoch 10/15\n",
            "1500/1500 [==============================] - 4s 3ms/step - loss: 0.2545 - accuracy: 0.9049 - val_loss: 0.3841 - val_accuracy: 0.8687\n",
            "Epoch 11/15\n",
            "1500/1500 [==============================] - 4s 3ms/step - loss: 0.2485 - accuracy: 0.9071 - val_loss: 0.3284 - val_accuracy: 0.8849\n",
            "Epoch 12/15\n",
            "1500/1500 [==============================] - 4s 3ms/step - loss: 0.2396 - accuracy: 0.9111 - val_loss: 0.3293 - val_accuracy: 0.8857\n",
            "Epoch 13/15\n",
            "1500/1500 [==============================] - 4s 3ms/step - loss: 0.2308 - accuracy: 0.9148 - val_loss: 0.3389 - val_accuracy: 0.8827\n",
            "Epoch 14/15\n",
            "1500/1500 [==============================] - 4s 3ms/step - loss: 0.2227 - accuracy: 0.9163 - val_loss: 0.3523 - val_accuracy: 0.8820\n",
            "Epoch 15/15\n",
            "1500/1500 [==============================] - 5s 3ms/step - loss: 0.2152 - accuracy: 0.9202 - val_loss: 0.3517 - val_accuracy: 0.8811\n",
            "313/313 [==============================] - 1s 3ms/step - loss: 0.3707 - accuracy: 0.8751\n"
          ],
          "name": "stdout"
        }
      ]
    },
    {
      "cell_type": "code",
      "metadata": {
        "colab": {
          "base_uri": "https://localhost:8080/"
        },
        "id": "6SUa274JFe7Z",
        "outputId": "7036dd6b-17b0-4c1a-b872-80719ad8ab0c"
      },
      "source": [
        "create_fit_model(results, 3, 15, [110, 100, 90])\n",
        "create_fit_model(results, 5, 15, [110, 100, 90, 80, 70])\n",
        "create_fit_model(results, 10, 15, [110, 100, 90, 80, 70, 60, 50, 40, 30, 20])"
      ],
      "execution_count": 43,
      "outputs": [
        {
          "output_type": "stream",
          "text": [
            "Слой 0 кол-во нейронов 110\n",
            "Слой 1 кол-во нейронов 100\n",
            "Слой 2 кол-во нейронов 90\n",
            "Слой 3 кол-во нейронов 80\n",
            "Слой 4 кол-во нейронов 70\n",
            "Epoch 1/15\n",
            "1500/1500 [==============================] - 6s 3ms/step - loss: 0.6531 - accuracy: 0.7723 - val_loss: 0.4473 - val_accuracy: 0.8389\n",
            "Epoch 2/15\n",
            "1500/1500 [==============================] - 5s 4ms/step - loss: 0.4229 - accuracy: 0.8469 - val_loss: 0.3864 - val_accuracy: 0.8641\n",
            "Epoch 3/15\n",
            "1500/1500 [==============================] - 5s 3ms/step - loss: 0.3770 - accuracy: 0.8651 - val_loss: 0.4133 - val_accuracy: 0.8477\n",
            "Epoch 4/15\n",
            "1500/1500 [==============================] - 5s 4ms/step - loss: 0.3591 - accuracy: 0.8704 - val_loss: 0.4157 - val_accuracy: 0.8482\n",
            "Epoch 5/15\n",
            "1500/1500 [==============================] - 5s 3ms/step - loss: 0.3346 - accuracy: 0.8767 - val_loss: 0.3591 - val_accuracy: 0.8699\n",
            "Epoch 6/15\n",
            "1500/1500 [==============================] - 5s 4ms/step - loss: 0.3205 - accuracy: 0.8825 - val_loss: 0.3539 - val_accuracy: 0.8751\n",
            "Epoch 7/15\n",
            "1500/1500 [==============================] - 5s 3ms/step - loss: 0.3141 - accuracy: 0.8841 - val_loss: 0.3444 - val_accuracy: 0.8774\n",
            "Epoch 8/15\n",
            "1500/1500 [==============================] - 5s 3ms/step - loss: 0.2986 - accuracy: 0.8911 - val_loss: 0.3709 - val_accuracy: 0.8702\n",
            "Epoch 9/15\n",
            "1500/1500 [==============================] - 5s 3ms/step - loss: 0.2908 - accuracy: 0.8923 - val_loss: 0.3425 - val_accuracy: 0.8762\n",
            "Epoch 10/15\n",
            "1500/1500 [==============================] - 5s 3ms/step - loss: 0.2868 - accuracy: 0.8923 - val_loss: 0.3568 - val_accuracy: 0.8791\n",
            "Epoch 11/15\n",
            "1500/1500 [==============================] - 5s 3ms/step - loss: 0.2761 - accuracy: 0.8987 - val_loss: 0.3565 - val_accuracy: 0.8739\n",
            "Epoch 12/15\n",
            "1500/1500 [==============================] - 5s 3ms/step - loss: 0.2679 - accuracy: 0.9013 - val_loss: 0.3466 - val_accuracy: 0.8815\n",
            "Epoch 13/15\n",
            "1500/1500 [==============================] - 5s 3ms/step - loss: 0.2636 - accuracy: 0.9038 - val_loss: 0.3585 - val_accuracy: 0.8737\n",
            "Epoch 14/15\n",
            "1500/1500 [==============================] - 4s 3ms/step - loss: 0.2509 - accuracy: 0.9064 - val_loss: 0.3620 - val_accuracy: 0.8737\n",
            "Epoch 15/15\n",
            "1500/1500 [==============================] - 5s 4ms/step - loss: 0.2558 - accuracy: 0.9070 - val_loss: 0.3342 - val_accuracy: 0.8849\n",
            "313/313 [==============================] - 1s 3ms/step - loss: 0.3538 - accuracy: 0.8775\n",
            "Слой 0 кол-во нейронов 110\n",
            "Слой 1 кол-во нейронов 100\n",
            "Слой 2 кол-во нейронов 90\n",
            "Слой 3 кол-во нейронов 80\n",
            "Слой 4 кол-во нейронов 70\n",
            "Слой 5 кол-во нейронов 60\n",
            "Слой 6 кол-во нейронов 50\n",
            "Слой 7 кол-во нейронов 40\n",
            "Слой 8 кол-во нейронов 30\n",
            "Слой 9 кол-во нейронов 20\n",
            "Epoch 1/15\n",
            "1500/1500 [==============================] - 7s 4ms/step - loss: 0.8039 - accuracy: 0.7405 - val_loss: 0.4783 - val_accuracy: 0.8340\n",
            "Epoch 2/15\n",
            "1500/1500 [==============================] - 6s 4ms/step - loss: 0.4636 - accuracy: 0.8406 - val_loss: 0.4758 - val_accuracy: 0.8391\n",
            "Epoch 3/15\n",
            "1500/1500 [==============================] - 6s 4ms/step - loss: 0.4272 - accuracy: 0.8506 - val_loss: 0.4194 - val_accuracy: 0.8486\n",
            "Epoch 4/15\n",
            "1500/1500 [==============================] - 6s 4ms/step - loss: 0.3988 - accuracy: 0.8598 - val_loss: 0.4254 - val_accuracy: 0.8519\n",
            "Epoch 5/15\n",
            "1500/1500 [==============================] - 5s 3ms/step - loss: 0.3815 - accuracy: 0.8670 - val_loss: 0.4520 - val_accuracy: 0.8425\n",
            "Epoch 6/15\n",
            "1500/1500 [==============================] - 5s 3ms/step - loss: 0.3657 - accuracy: 0.8720 - val_loss: 0.3873 - val_accuracy: 0.8627\n",
            "Epoch 7/15\n",
            "1500/1500 [==============================] - 6s 4ms/step - loss: 0.3585 - accuracy: 0.8719 - val_loss: 0.3801 - val_accuracy: 0.8716\n",
            "Epoch 8/15\n",
            "1500/1500 [==============================] - 5s 4ms/step - loss: 0.3498 - accuracy: 0.8761 - val_loss: 0.4058 - val_accuracy: 0.8615\n",
            "Epoch 9/15\n",
            "1500/1500 [==============================] - 6s 4ms/step - loss: 0.3404 - accuracy: 0.8798 - val_loss: 0.3782 - val_accuracy: 0.8674\n",
            "Epoch 10/15\n",
            "1500/1500 [==============================] - 6s 4ms/step - loss: 0.3349 - accuracy: 0.8803 - val_loss: 0.3758 - val_accuracy: 0.8691\n",
            "Epoch 11/15\n",
            "1500/1500 [==============================] - 6s 4ms/step - loss: 0.3304 - accuracy: 0.8816 - val_loss: 0.3759 - val_accuracy: 0.8724\n",
            "Epoch 12/15\n",
            "1500/1500 [==============================] - 6s 4ms/step - loss: 0.3281 - accuracy: 0.8816 - val_loss: 0.3901 - val_accuracy: 0.8673\n",
            "Epoch 13/15\n",
            "1500/1500 [==============================] - 6s 4ms/step - loss: 0.3164 - accuracy: 0.8859 - val_loss: 0.4129 - val_accuracy: 0.8593\n",
            "Epoch 14/15\n",
            "1500/1500 [==============================] - 6s 4ms/step - loss: 0.3171 - accuracy: 0.8877 - val_loss: 0.3786 - val_accuracy: 0.8624\n",
            "Epoch 15/15\n",
            "1500/1500 [==============================] - 6s 4ms/step - loss: 0.3177 - accuracy: 0.8893 - val_loss: 0.3733 - val_accuracy: 0.8754\n",
            "313/313 [==============================] - 1s 3ms/step - loss: 0.4021 - accuracy: 0.8620\n"
          ],
          "name": "stdout"
        }
      ]
    },
    {
      "cell_type": "code",
      "metadata": {
        "colab": {
          "base_uri": "https://localhost:8080/",
          "height": 519
        },
        "id": "JXH9bJw0FXyD",
        "outputId": "23bfea5f-9691-4af0-8f8f-e281eeca59df"
      },
      "source": [
        "df_res_models = pd.DataFrame(data=results)\n",
        "df_res_models"
      ],
      "execution_count": 79,
      "outputs": [
        {
          "output_type": "execute_result",
          "data": {
            "text/html": [
              "<div>\n",
              "<style scoped>\n",
              "    .dataframe tbody tr th:only-of-type {\n",
              "        vertical-align: middle;\n",
              "    }\n",
              "\n",
              "    .dataframe tbody tr th {\n",
              "        vertical-align: top;\n",
              "    }\n",
              "\n",
              "    .dataframe thead th {\n",
              "        text-align: right;\n",
              "    }\n",
              "</style>\n",
              "<table border=\"1\" class=\"dataframe\">\n",
              "  <thead>\n",
              "    <tr style=\"text-align: right;\">\n",
              "      <th></th>\n",
              "      <th>neuron_numb</th>\n",
              "      <th>epochs_numb</th>\n",
              "      <th>layers_numb</th>\n",
              "      <th>accuracy</th>\n",
              "      <th>val_accuracy</th>\n",
              "      <th>optimizer</th>\n",
              "    </tr>\n",
              "  </thead>\n",
              "  <tbody>\n",
              "    <tr>\n",
              "      <th>0</th>\n",
              "      <td>[120, 110]</td>\n",
              "      <td>15</td>\n",
              "      <td>2</td>\n",
              "      <td>0.922521</td>\n",
              "      <td>0.883750</td>\n",
              "      <td>adam</td>\n",
              "    </tr>\n",
              "    <tr>\n",
              "      <th>1</th>\n",
              "      <td>[130, 120]</td>\n",
              "      <td>15</td>\n",
              "      <td>2</td>\n",
              "      <td>0.921167</td>\n",
              "      <td>0.884500</td>\n",
              "      <td>adam</td>\n",
              "    </tr>\n",
              "    <tr>\n",
              "      <th>2</th>\n",
              "      <td>[140, 130]</td>\n",
              "      <td>15</td>\n",
              "      <td>2</td>\n",
              "      <td>0.922854</td>\n",
              "      <td>0.884833</td>\n",
              "      <td>adam</td>\n",
              "    </tr>\n",
              "    <tr>\n",
              "      <th>3</th>\n",
              "      <td>[50, 40]</td>\n",
              "      <td>15</td>\n",
              "      <td>2</td>\n",
              "      <td>0.915750</td>\n",
              "      <td>0.889833</td>\n",
              "      <td>adam</td>\n",
              "    </tr>\n",
              "    <tr>\n",
              "      <th>4</th>\n",
              "      <td>[75, 65]</td>\n",
              "      <td>15</td>\n",
              "      <td>2</td>\n",
              "      <td>0.917917</td>\n",
              "      <td>0.881083</td>\n",
              "      <td>adam</td>\n",
              "    </tr>\n",
              "    <tr>\n",
              "      <th>5</th>\n",
              "      <td>[110, 100]</td>\n",
              "      <td>15</td>\n",
              "      <td>2</td>\n",
              "      <td>0.919771</td>\n",
              "      <td>0.885917</td>\n",
              "      <td>adam</td>\n",
              "    </tr>\n",
              "    <tr>\n",
              "      <th>6</th>\n",
              "      <td>[50, 40]</td>\n",
              "      <td>15</td>\n",
              "      <td>2</td>\n",
              "      <td>0.913667</td>\n",
              "      <td>0.880500</td>\n",
              "      <td>adam</td>\n",
              "    </tr>\n",
              "    <tr>\n",
              "      <th>7</th>\n",
              "      <td>[110, 100, 90]</td>\n",
              "      <td>15</td>\n",
              "      <td>3</td>\n",
              "      <td>0.913646</td>\n",
              "      <td>0.882083</td>\n",
              "      <td>adam</td>\n",
              "    </tr>\n",
              "    <tr>\n",
              "      <th>8</th>\n",
              "      <td>[110, 100, 90, 80, 70]</td>\n",
              "      <td>15</td>\n",
              "      <td>5</td>\n",
              "      <td>0.906000</td>\n",
              "      <td>0.884917</td>\n",
              "      <td>adam</td>\n",
              "    </tr>\n",
              "    <tr>\n",
              "      <th>9</th>\n",
              "      <td>[110, 100, 90, 80, 70, 60, 50, 40, 30, 20]</td>\n",
              "      <td>15</td>\n",
              "      <td>10</td>\n",
              "      <td>0.891250</td>\n",
              "      <td>0.875417</td>\n",
              "      <td>adam</td>\n",
              "    </tr>\n",
              "    <tr>\n",
              "      <th>10</th>\n",
              "      <td>[140, 130, 120, 110, 100]</td>\n",
              "      <td>15</td>\n",
              "      <td>5</td>\n",
              "      <td>0.906125</td>\n",
              "      <td>0.877083</td>\n",
              "      <td>adam</td>\n",
              "    </tr>\n",
              "    <tr>\n",
              "      <th>11</th>\n",
              "      <td>[120, 110]</td>\n",
              "      <td>15</td>\n",
              "      <td>2</td>\n",
              "      <td>0.919729</td>\n",
              "      <td>0.887833</td>\n",
              "      <td>adam</td>\n",
              "    </tr>\n",
              "    <tr>\n",
              "      <th>12</th>\n",
              "      <td>[120, 110]</td>\n",
              "      <td>20</td>\n",
              "      <td>2</td>\n",
              "      <td>0.931625</td>\n",
              "      <td>0.887750</td>\n",
              "      <td>adam</td>\n",
              "    </tr>\n",
              "    <tr>\n",
              "      <th>13</th>\n",
              "      <td>[120, 110]</td>\n",
              "      <td>20</td>\n",
              "      <td>2</td>\n",
              "      <td>0.931708</td>\n",
              "      <td>0.886333</td>\n",
              "      <td>adam</td>\n",
              "    </tr>\n",
              "    <tr>\n",
              "      <th>14</th>\n",
              "      <td>[150, 140]</td>\n",
              "      <td>30</td>\n",
              "      <td>2</td>\n",
              "      <td>0.946417</td>\n",
              "      <td>0.884250</td>\n",
              "      <td>adam</td>\n",
              "    </tr>\n",
              "  </tbody>\n",
              "</table>\n",
              "</div>"
            ],
            "text/plain": [
              "                                   neuron_numb  ...  optimizer\n",
              "0                                   [120, 110]  ...       adam\n",
              "1                                   [130, 120]  ...       adam\n",
              "2                                   [140, 130]  ...       adam\n",
              "3                                     [50, 40]  ...       adam\n",
              "4                                     [75, 65]  ...       adam\n",
              "5                                   [110, 100]  ...       adam\n",
              "6                                     [50, 40]  ...       adam\n",
              "7                               [110, 100, 90]  ...       adam\n",
              "8                       [110, 100, 90, 80, 70]  ...       adam\n",
              "9   [110, 100, 90, 80, 70, 60, 50, 40, 30, 20]  ...       adam\n",
              "10                   [140, 130, 120, 110, 100]  ...       adam\n",
              "11                                  [120, 110]  ...       adam\n",
              "12                                  [120, 110]  ...       adam\n",
              "13                                  [120, 110]  ...       adam\n",
              "14                                  [150, 140]  ...       adam\n",
              "\n",
              "[15 rows x 6 columns]"
            ]
          },
          "metadata": {
            "tags": []
          },
          "execution_count": 79
        }
      ]
    },
    {
      "cell_type": "code",
      "metadata": {
        "colab": {
          "base_uri": "https://localhost:8080/",
          "height": 217
        },
        "id": "jckscx6pJbW_",
        "outputId": "c4700726-d909-4490-825f-da7e94a82814"
      },
      "source": [
        "names = [f'{val}' for val in results['neuron_numb'][:5]]\n",
        "values = results['val_accuracy'][:5]\n",
        "\n",
        "plt.figure(figsize=(30, 3))\n",
        "\n",
        "plt.subplot(131)\n",
        "plt.scatter(values, names)\n",
        "plt.suptitle('neuron_numb')\n",
        "plt.show()"
      ],
      "execution_count": 80,
      "outputs": [
        {
          "output_type": "display_data",
          "data": {
            "image/png": "[encoded data removed]",
            "text/plain": [
              "<Figure size 2160x216 with 1 Axes>"
            ]
          },
          "metadata": {
            "tags": [],
            "needs_background": "light"
          }
        }
      ]
    },
    {
      "cell_type": "code",
      "metadata": {
        "colab": {
          "base_uri": "https://localhost:8080/",
          "height": 227
        },
        "id": "_F-wDjCgM1AO",
        "outputId": "e5cb59d0-56e0-4f26-eefa-e2587f1ec11e"
      },
      "source": [
        "names = [f'{val}' for val in results['layers_numb'][7:]]\n",
        "values = results['val_accuracy'][7:]\n",
        "\n",
        "plt.figure(figsize=(30, 3))\n",
        "\n",
        "plt.subplot(131)\n",
        "plt.scatter(values, names)\n",
        "plt.suptitle('layers_numb')\n",
        "plt.show()"
      ],
      "execution_count": 66,
      "outputs": [
        {
          "output_type": "display_data",
          "data": {
            "image/png": "[encoded data removed]",
            "text/plain": [
              "<Figure size 2160x216 with 1 Axes>"
            ]
          },
          "metadata": {
            "tags": [],
            "needs_background": "light"
          }
        }
      ]
    },
    {
      "cell_type": "code",
      "metadata": {
        "colab": {
          "base_uri": "https://localhost:8080/",
          "height": 1000
        },
        "id": "Z8VEh338NWYZ",
        "outputId": "b2ccbfa7-900c-48b2-8afb-bd2b8125ea26"
      },
      "source": [
        "# Проверка\n",
        "hh, model = create_fit_model(results, 2, 30, [150, 140])\n",
        "plt.figure(figsize=(15,7))\n",
        "plt.plot(hh.history['loss'], label = 'потери для тренировки')\n",
        "plt.plot(hh.history['val_loss'], label = 'потери для валидации')\n",
        "plt.xlabel('эпох')\n",
        "plt.ylabel('loss')\n",
        "plt.legend()\n",
        "plt.grid('On')\n",
        "plt.title('потери от эпох')\n",
        "plt.show()"
      ],
      "execution_count": 77,
      "outputs": [
        {
          "output_type": "stream",
          "text": [
            "Слой 0 кол-во нейронов 150\n",
            "Слой 1 кол-во нейронов 140\n",
            "Epoch 1/30\n",
            "1500/1500 [==============================] - 6s 3ms/step - loss: 0.6217 - accuracy: 0.7760 - val_loss: 0.4206 - val_accuracy: 0.8444\n",
            "Epoch 2/30\n",
            "1500/1500 [==============================] - 5s 3ms/step - loss: 0.3872 - accuracy: 0.8575 - val_loss: 0.3666 - val_accuracy: 0.8650\n",
            "Epoch 3/30\n",
            "1500/1500 [==============================] - 5s 3ms/step - loss: 0.3425 - accuracy: 0.8741 - val_loss: 0.3586 - val_accuracy: 0.8733\n",
            "Epoch 4/30\n",
            "1500/1500 [==============================] - 5s 3ms/step - loss: 0.3163 - accuracy: 0.8819 - val_loss: 0.3560 - val_accuracy: 0.8709\n",
            "Epoch 5/30\n",
            "1500/1500 [==============================] - 4s 3ms/step - loss: 0.3033 - accuracy: 0.8871 - val_loss: 0.3474 - val_accuracy: 0.8742\n",
            "Epoch 6/30\n",
            "1500/1500 [==============================] - 4s 3ms/step - loss: 0.2864 - accuracy: 0.8929 - val_loss: 0.3301 - val_accuracy: 0.8821\n",
            "Epoch 7/30\n",
            "1500/1500 [==============================] - 4s 3ms/step - loss: 0.2734 - accuracy: 0.8980 - val_loss: 0.3357 - val_accuracy: 0.8785\n",
            "Epoch 8/30\n",
            "1500/1500 [==============================] - 4s 3ms/step - loss: 0.2581 - accuracy: 0.9053 - val_loss: 0.3434 - val_accuracy: 0.8754\n",
            "Epoch 9/30\n",
            "1500/1500 [==============================] - 4s 3ms/step - loss: 0.2425 - accuracy: 0.9096 - val_loss: 0.3383 - val_accuracy: 0.8803\n",
            "Epoch 10/30\n",
            "1500/1500 [==============================] - 4s 3ms/step - loss: 0.2349 - accuracy: 0.9111 - val_loss: 0.3517 - val_accuracy: 0.8807\n",
            "Epoch 11/30\n",
            "1500/1500 [==============================] - 4s 3ms/step - loss: 0.2311 - accuracy: 0.9127 - val_loss: 0.3291 - val_accuracy: 0.8873\n",
            "Epoch 12/30\n",
            "1500/1500 [==============================] - 4s 3ms/step - loss: 0.2077 - accuracy: 0.9221 - val_loss: 0.3464 - val_accuracy: 0.8808\n",
            "Epoch 13/30\n",
            "1500/1500 [==============================] - 4s 3ms/step - loss: 0.2173 - accuracy: 0.9183 - val_loss: 0.3413 - val_accuracy: 0.8821\n",
            "Epoch 14/30\n",
            "1500/1500 [==============================] - 5s 3ms/step - loss: 0.1988 - accuracy: 0.9264 - val_loss: 0.3367 - val_accuracy: 0.8854\n",
            "Epoch 15/30\n",
            "1500/1500 [==============================] - 4s 3ms/step - loss: 0.1974 - accuracy: 0.9270 - val_loss: 0.3595 - val_accuracy: 0.8837\n",
            "Epoch 16/30\n",
            "1500/1500 [==============================] - 4s 3ms/step - loss: 0.1943 - accuracy: 0.9278 - val_loss: 0.3524 - val_accuracy: 0.8840\n",
            "Epoch 17/30\n",
            "1500/1500 [==============================] - 4s 3ms/step - loss: 0.1859 - accuracy: 0.9314 - val_loss: 0.3370 - val_accuracy: 0.8910\n",
            "Epoch 18/30\n",
            "1500/1500 [==============================] - 4s 3ms/step - loss: 0.1780 - accuracy: 0.9343 - val_loss: 0.3483 - val_accuracy: 0.8846\n",
            "Epoch 19/30\n",
            "1500/1500 [==============================] - 5s 3ms/step - loss: 0.1732 - accuracy: 0.9352 - val_loss: 0.3609 - val_accuracy: 0.8831\n",
            "Epoch 20/30\n",
            "1500/1500 [==============================] - 5s 3ms/step - loss: 0.1659 - accuracy: 0.9375 - val_loss: 0.3521 - val_accuracy: 0.8866\n",
            "Epoch 21/30\n",
            "1500/1500 [==============================] - 5s 3ms/step - loss: 0.1668 - accuracy: 0.9373 - val_loss: 0.3410 - val_accuracy: 0.8886\n",
            "Epoch 22/30\n",
            "1500/1500 [==============================] - 5s 3ms/step - loss: 0.1588 - accuracy: 0.9404 - val_loss: 0.3601 - val_accuracy: 0.8834\n",
            "Epoch 23/30\n",
            "1500/1500 [==============================] - 5s 3ms/step - loss: 0.1603 - accuracy: 0.9404 - val_loss: 0.3732 - val_accuracy: 0.8810\n",
            "Epoch 24/30\n",
            "1500/1500 [==============================] - 4s 3ms/step - loss: 0.1551 - accuracy: 0.9416 - val_loss: 0.3781 - val_accuracy: 0.8839\n",
            "Epoch 25/30\n",
            "1500/1500 [==============================] - 5s 3ms/step - loss: 0.1506 - accuracy: 0.9433 - val_loss: 0.3711 - val_accuracy: 0.8853\n",
            "Epoch 26/30\n",
            "1500/1500 [==============================] - 5s 3ms/step - loss: 0.1406 - accuracy: 0.9473 - val_loss: 0.3760 - val_accuracy: 0.8867\n",
            "Epoch 27/30\n",
            "1500/1500 [==============================] - 4s 3ms/step - loss: 0.1460 - accuracy: 0.9441 - val_loss: 0.3810 - val_accuracy: 0.8867\n",
            "Epoch 28/30\n",
            "1500/1500 [==============================] - 4s 3ms/step - loss: 0.1330 - accuracy: 0.9498 - val_loss: 0.3822 - val_accuracy: 0.8855\n",
            "Epoch 29/30\n",
            "1500/1500 [==============================] - 4s 3ms/step - loss: 0.1368 - accuracy: 0.9484 - val_loss: 0.3837 - val_accuracy: 0.8826\n",
            "Epoch 30/30\n",
            "1500/1500 [==============================] - 4s 3ms/step - loss: 0.1337 - accuracy: 0.9504 - val_loss: 0.3914 - val_accuracy: 0.8842\n",
            "313/313 [==============================] - 1s 2ms/step - loss: 0.4180 - accuracy: 0.8768\n"
          ],
          "name": "stdout"
        },
        {
          "output_type": "display_data",
          "data": {
            "image/png": "[encoded data removed]",
            "text/plain": [
              "<Figure size 1080x504 with 1 Axes>"
            ]
          },
          "metadata": {
            "tags": [],
            "needs_background": "light"
          }
        }
      ]
    },
    {
      "cell_type": "code",
      "metadata": {
        "colab": {
          "base_uri": "https://localhost:8080/",
          "height": 295
        },
        "id": "aeZGJVEHPtfF",
        "outputId": "a818081d-44ac-4b8c-8a2d-7c0f99b9c5c4"
      },
      "source": [
        "plt.plot(hh.history['val_accuracy'] ,label='val')\n",
        "plt.plot(hh.history['accuracy'] ,label='train')\n",
        "plt.legend()\n",
        "plt.xlabel('epoch')\n",
        "plt.ylabel('accuracy')\n",
        "plt.title('точность сети от эпох')\n",
        "plt.grid()\n",
        "plt.show()"
      ],
      "execution_count": 78,
      "outputs": [
        {
          "output_type": "display_data",
          "data": {
            "image/png": "[encoded data removed]",
            "text/plain": [
              "<Figure size 432x288 with 1 Axes>"
            ]
          },
          "metadata": {
            "tags": [],
            "needs_background": "light"
          }
        }
      ]
    },
    {
      "cell_type": "markdown",
      "metadata": {
        "id": "0vnTUhkBLZGD"
      },
      "source": [
        "#Ответ:\n",
        "По таблице и графикам можно сделать обманчивые выводы, рез-ты требуется перепроверять на графиках.\n",
        "\n",
        "1.1 Оптимальной по val_accuracy оказалась модель с 110 на 100 нейронов в 2х скрытых слоях.\n",
        "\n",
        "1.2 Увеличение кол-ва слоев при том же количестве эпох только ухудшает рез-ты модели, как и при решении первого ДЗ напрашивается вывод что увеличивать нужно параллельно и кол-во эпох.\n",
        "\n",
        "Особого преимущества от величения эпох до 30 и увеличения нейронов я не заметил."
      ]
    },
    {
      "cell_type": "code",
      "metadata": {
        "colab": {
          "base_uri": "https://localhost:8080/"
        },
        "id": "wFbjWvtKVCaO",
        "outputId": "2ed7b34e-fce9-4d7c-f3ec-015949fe6ba7"
      },
      "source": [
        "hh = model.fit(\n",
        "  train_imagef,\n",
        "  y_t,\n",
        "  epochs=3,\n",
        "  batch_size=1024, validation_split=0.2\n",
        ")"
      ],
      "execution_count": 82,
      "outputs": [
        {
          "output_type": "stream",
          "text": [
            "Epoch 1/3\n",
            "47/47 [==============================] - 1s 7ms/step - loss: 0.1095 - accuracy: 0.9604 - val_loss: 0.3656 - val_accuracy: 0.8911\n",
            "Epoch 2/3\n",
            "47/47 [==============================] - 0s 7ms/step - loss: 0.0875 - accuracy: 0.9702 - val_loss: 0.3661 - val_accuracy: 0.8926\n",
            "Epoch 3/3\n",
            "47/47 [==============================] - 0s 7ms/step - loss: 0.0805 - accuracy: 0.9733 - val_loss: 0.3682 - val_accuracy: 0.8929\n"
          ],
          "name": "stdout"
        }
      ]
    },
    {
      "cell_type": "code",
      "metadata": {
        "colab": {
          "base_uri": "https://localhost:8080/"
        },
        "id": "4U89i2nuB3IB",
        "outputId": "149f6843-be92-408c-a81b-8e3e7f68c4da"
      },
      "source": [
        "# Predict on the first 5 test images.\n",
        "predictions = model.predict(test_imagef[:5])\n",
        "\n",
        "# Print our model's predictions.\n",
        "print(np.argmax(predictions, axis=1))\n",
        "\n",
        "# Check our predictions against the ground truths.\n",
        "print(test_labelf[:5]) #"
      ],
      "execution_count": 83,
      "outputs": [
        {
          "output_type": "stream",
          "text": [
            "[9 2 1 1 6]\n",
            "[9 2 1 1 6]\n"
          ],
          "name": "stdout"
        }
      ]
    },
    {
      "cell_type": "markdown",
      "metadata": {
        "id": "03VaK5FLCO0d"
      },
      "source": [
        "Сохраним модель на диск"
      ]
    },
    {
      "cell_type": "code",
      "metadata": {
        "id": "1kuz3DxACMxu"
      },
      "source": [
        "# сохранить веса модели.\n",
        "model.save_weights('model.h5')\n",
        "\n",
        "# загрузить веса модели:\n",
        "# model.load_weights('model.h5')"
      ],
      "execution_count": 84,
      "outputs": []
    },
    {
      "cell_type": "code",
      "metadata": {
        "colab": {
          "base_uri": "https://localhost:8080/",
          "height": 121
        },
        "id": "ESGZ7WPxDr2Y",
        "outputId": "e9ff2973-869a-41e0-e38a-054dac6812fc"
      },
      "source": [
        "N = 9\n",
        "y_pred = model.predict(test_imagef[:N,:])\n",
        "y_pred_class = np.argmax(y_pred,axis=1)\n",
        "plt.figure(figsize =(3*N,5))\n",
        "for i in range(N):\n",
        "  plt.subplot(1,N,i+1)\n",
        "  plt.imshow(test_imagef[i,:].reshape(28,28))\n",
        "  plt.xlabel(str(y_pred_class[i]))\n",
        "plt.show() "
      ],
      "execution_count": 85,
      "outputs": [
        {
          "output_type": "display_data",
          "data": {
            "image/png": "[encoded data removed]",
            "text/plain": [
              "<Figure size 1944x360 with 9 Axes>"
            ]
          },
          "metadata": {
            "tags": [],
            "needs_background": "light"
          }
        }
      ]
    },
    {
      "cell_type": "code",
      "metadata": {
        "colab": {
          "base_uri": "https://localhost:8080/"
        },
        "id": "73cXMTcyEJJd",
        "outputId": "bf3c5012-7c7a-4ba3-8189-04332e443e41"
      },
      "source": [
        "test_labelf[:N]"
      ],
      "execution_count": 86,
      "outputs": [
        {
          "output_type": "execute_result",
          "data": {
            "text/plain": [
              "array([9, 2, 1, 1, 6, 1, 4, 6, 5], dtype=uint8)"
            ]
          },
          "metadata": {
            "tags": []
          },
          "execution_count": 86
        }
      ]
    }
  ]
}